{
 "cells": [
  {
   "cell_type": "code",
   "execution_count": 24,
   "metadata": {},
   "outputs": [],
   "source": [
    "from skimage.io import imread\n",
    "import numpy as np\n",
    "import os\n",
    "from random import shuffle"
   ]
  },
  {
   "cell_type": "code",
   "execution_count": 25,
   "metadata": {},
   "outputs": [],
   "source": [
    "#renaming masks after downloading the data\n",
    "\n",
    "#for filename in os.listdir('../data/masks'):\n",
    "#    if filename.endswith('.tif'):\n",
    "#        os.rename('../data/masks/' + filename, '../data/masks/' + filename[5:-4] + '_mask' + '.tif')`      "
   ]
  },
  {
   "cell_type": "code",
   "execution_count": 26,
   "metadata": {},
   "outputs": [],
   "source": [
    "def group_by_patient(path):\n",
    "        images_by_patient = {}\n",
    "        for file in os.listdir(path + \"images\"):\n",
    "            if file.endswith(\".tif\"):\n",
    "                split_file_name = file.split('_')\n",
    "                patient_id = split_file_name[1]\n",
    "            if patient_id in images_by_patient:\n",
    "                images_by_patient[patient_id].append(file)\n",
    "            else:\n",
    "                images_by_patient[patient_id] = [file]\n",
    "    \n",
    "        for file in os.listdir(path + \"masks\"):\n",
    "            if file.endswith(\".tif\"):\n",
    "                split_file_name = file.split('_')\n",
    "                patient_id = split_file_name[1]\n",
    "            if patient_id in images_by_patient:\n",
    "                images_by_patient[patient_id].append(file)\n",
    "            else:\n",
    "                images_by_patient[patient_id] = [file]\n",
    "        return images_by_patient"
   ]
  },
  {
   "cell_type": "code",
   "execution_count": 27,
   "metadata": {},
   "outputs": [],
   "source": [
    "def getImageId(filename):\n",
    "    split_filename = filename.split('_')\n",
    "    if len(split_filename) == 4:\n",
    "        return split_filename[3][:-4]\n",
    "    return split_filename[3]\n"
   ]
  },
  {
   "cell_type": "code",
   "execution_count": 28,
   "metadata": {},
   "outputs": [],
   "source": [
    "def load_images(path):\n",
    "    images = {}\n",
    "    images_by_patient = group_by_patient(path)\n",
    "    for key, img_list in images_by_patient.items():\n",
    "        for i in range(0,len(img_list)):\n",
    "            first_id = getImageId(img_list[i])\n",
    "            for j in range(i,len(img_list)):\n",
    "                sec_id = getImageId(img_list[j])\n",
    "                if first_id == sec_id and img_list[i] != img_list[j]:\n",
    "                     if key in images:\n",
    "                        images[key].append((img_list[i], img_list[j]))\n",
    "                     else:\n",
    "                        images[key] = [(img_list[i], img_list[j])]\n",
    "                     break\n",
    "    return images"
   ]
  },
  {
   "cell_type": "code",
   "execution_count": 29,
   "metadata": {},
   "outputs": [],
   "source": [
    "class Scan:\n",
    "    def __init__(self, path, slice_file, mask_file, patient_id):\n",
    "        self.patient_id = patient_id\n",
    "        self.slice = imread(path + \"images/\" + slice_file, as_grey=True) \n",
    "        self.mask = imread(path + \"masks/\" + mask_file, as_grey=True)\n",
    "        self.contains_prostate = self.get_label()\n",
    "    \n",
    "    def get_label(self):\n",
    "        return self.mask.flatten().max() > 0"
   ]
  },
  {
   "cell_type": "code",
   "execution_count": 30,
   "metadata": {},
   "outputs": [],
   "source": [
    "class Patient:\n",
    "    def __init__(self, scans, patient_id):\n",
    "        self.id = patient_id\n",
    "        self.scans = scans\n",
    "    def add_scan(self, scan):\n",
    "        self.scans.append(scan)"
   ]
  },
  {
   "cell_type": "code",
   "execution_count": 31,
   "metadata": {},
   "outputs": [],
   "source": [
    "class PatientsDB:\n",
    "    def __init__(self, path):\n",
    "        self.patients = self.load_patients(load_images(path), path)\n",
    "    \n",
    "    def load_patients(self, images, path):\n",
    "        patients = []\n",
    "        for patient_id, scans in images.items():\n",
    "            P = Patient([], patient_id)\n",
    "            patients.append(P)\n",
    "            for slice_file, mask_file in scans:\n",
    "                s = Scan(path, slice_file, mask_file, patient_id)\n",
    "                P.add_scan(s)\n",
    "        return patients\n",
    "    \n",
    "    def load_data(self):\n",
    "        shuffle(self.patients)\n",
    "        x_test = []\n",
    "        x_train = []\n",
    "        y_test = []\n",
    "        y_train = []\n",
    "        threshold = 0\n",
    "        patients_len = len(self.patients)\n",
    "        for i in range (0,patients_len):\n",
    "            if threshold > (patients_len/100)*75:\n",
    "                for scan in self.patients[i].scans:\n",
    "                    x_test.append(scan.mask)\n",
    "                    y_test.append(scan.contains_prostate)\n",
    "            else:\n",
    "                for scan in self.patients[i].scans:\n",
    "                    x_train.append(scan.mask)\n",
    "                    y_train.append(scan.contains_prostate)\n",
    "            threshold+=1\n",
    "        return ( ( np.array(x_train), np.array(y_train) ), (np.array(x_test), np.array(y_test)) )"
   ]
  },
  {
   "cell_type": "code",
   "execution_count": 32,
   "metadata": {},
   "outputs": [],
   "source": [
    "db = PatientsDB(\"../data/\")"
   ]
  },
  {
   "cell_type": "code",
   "execution_count": 33,
   "metadata": {},
   "outputs": [],
   "source": [
    "(x_train, y_train), (x_test, y_test) = db.load_data()"
   ]
  },
  {
   "cell_type": "code",
   "execution_count": 34,
   "metadata": {},
   "outputs": [
    {
     "name": "stdout",
     "output_type": "stream",
     "text": [
      "(282, 512, 512)\n",
      "(953, 512, 512)\n",
      "(282,)\n",
      "(953,)\n"
     ]
    }
   ],
   "source": [
    "print((x_test.shape))\n",
    "print((x_train.shape))\n",
    "print((y_test.shape))\n",
    "print((y_train.shape))"
   ]
  },
  {
   "cell_type": "code",
   "execution_count": 36,
   "metadata": {},
   "outputs": [
    {
     "name": "stdout",
     "output_type": "stream",
     "text": [
      "(10000, 28, 28)\n",
      "(60000, 28, 28)\n",
      "(10000,)\n",
      "(60000,)\n"
     ]
    }
   ],
   "source": [
    "from keras.datasets import mnist\n",
    "(x_train, y_train), (x_test, y_test) = mnist.load_data()\n",
    "\n",
    "print((x_test.shape))\n",
    "print((x_train.shape))\n",
    "print((y_test.shape))\n",
    "print((y_train.shape))"
   ]
  },
  {
   "cell_type": "code",
   "execution_count": null,
   "metadata": {},
   "outputs": [],
   "source": []
  },
  {
   "cell_type": "code",
   "execution_count": null,
   "metadata": {},
   "outputs": [],
   "source": []
  },
  {
   "cell_type": "code",
   "execution_count": null,
   "metadata": {},
   "outputs": [],
   "source": []
  },
  {
   "cell_type": "code",
   "execution_count": null,
   "metadata": {},
   "outputs": [],
   "source": []
  }
 ],
 "metadata": {
  "kernelspec": {
   "display_name": "Python 3",
   "language": "python",
   "name": "python3"
  },
  "language_info": {
   "codemirror_mode": {
    "name": "ipython",
    "version": 3
   },
   "file_extension": ".py",
   "mimetype": "text/x-python",
   "name": "python",
   "nbconvert_exporter": "python",
   "pygments_lexer": "ipython3",
   "version": "3.6.5"
  }
 },
 "nbformat": 4,
 "nbformat_minor": 2
}
