{
 "cells": [
  {
   "cell_type": "code",
   "execution_count": 1,
   "metadata": {},
   "outputs": [],
   "source": [
    "from skimage.io import imread\n",
    "import numpy as np\n",
    "import os\n",
    "from random import shuffle"
   ]
  },
  {
   "cell_type": "code",
   "execution_count": 2,
   "metadata": {},
   "outputs": [],
   "source": [
    "#renaming masks after downloading the data\n",
    "\n",
    "#for filename in os.listdir('../data/masks'):\n",
    "#    if filename.endswith('.tif'):\n",
    "#        os.rename('../data/masks/' + filename, '../data/masks/' + filename[5:-4] + '_mask' + '.tif')`      "
   ]
  },
  {
   "cell_type": "code",
   "execution_count": 3,
   "metadata": {},
   "outputs": [],
   "source": [
    "class Scan:\n",
    "    def __init__(self, path, slice_file, mask_file, patient_id):\n",
    "        self.patient_id = patient_id\n",
    "        self.slice = imread(path + \"images/\" + slice_file, as_grey=True) \n",
    "        self.mask = imread(path + \"masks/\" + mask_file, as_grey=True)\n",
    "        self.contains_prostate = self.get_label()\n",
    "    \n",
    "    def get_label(self):\n",
    "        return self.mask.flatten().max() > 0\n",
    "        "
   ]
  },
  {
   "cell_type": "code",
   "execution_count": 4,
   "metadata": {},
   "outputs": [],
   "source": [
    "class Patient:\n",
    "    def __init__(self, scans, patient_id):\n",
    "        self.id = patient_id\n",
    "        self.scans = scans\n",
    "    def add_scan(self, scan):\n",
    "        self.scans.append(scan)"
   ]
  },
  {
   "cell_type": "code",
   "execution_count": 131,
   "metadata": {},
   "outputs": [],
   "source": [
    "class PatientsDB:\n",
    "    def __init__(self, images, path):\n",
    "        self.patients = self.load_patients(images, path)\n",
    "    def load_patients(self, images, path):\n",
    "        patients = []\n",
    "        for patient_id, scans in images.items():\n",
    "            P = Patient([], patient_id)\n",
    "            patients.append(P)\n",
    "            for slice_file, mask_file in scans:\n",
    "                s = Scan(path, slice_file, mask_file, patient_id)\n",
    "                P.add_scan(s)\n",
    "        return patients\n",
    "    def load_data(self):\n",
    "        shuffle(self.patients)\n",
    "        x_test = []\n",
    "        x_train = []\n",
    "        y_test = []\n",
    "        y_train = []\n",
    "        threshold = 0\n",
    "        patients_len = len(self.patients)\n",
    "        for i in range (0,patients_len):\n",
    "            if threshold > (patients_len/100)*75:\n",
    "                for scan in self.patients[i].scans:\n",
    "                    x_test.append(scan.mask)\n",
    "                    y_test.append(scan.contains_prostate)\n",
    "            else:\n",
    "                for scan in self.patients[i].scans:\n",
    "                    x_train.append(scan.mask)\n",
    "                    y_train.append(scan.contains_prostate)\n",
    "            threshold+=1\n",
    "        return ( ( np.array(x_train), np.array(y_train) ), (np.array(x_test), np.array(y_test)) )\n",
    "            \n",
    "            \n",
    "        "
   ]
  },
  {
   "cell_type": "code",
   "execution_count": 132,
   "metadata": {},
   "outputs": [],
   "source": [
    "PATH = \"../data/\"\n",
    "images_by_patient = {}\n",
    "\n",
    "for file in os.listdir(PATH + \"images\"):\n",
    "    if file.endswith(\".tif\"):\n",
    "        split_file_name = file.split('_')\n",
    "        patient_id = split_file_name[1]\n",
    "        if patient_id in images_by_patient:\n",
    "            images_by_patient[patient_id].append(file)\n",
    "        else:\n",
    "            images_by_patient[patient_id] = [file]\n",
    "\n",
    "for file in os.listdir(PATH + \"masks\"):\n",
    "    if file.endswith(\".tif\"):\n",
    "        split_file_name = file.split('_')\n",
    "        patient_id = split_file_name[1]\n",
    "        if patient_id in images_by_patient:\n",
    "            images_by_patient[patient_id].append(file)\n",
    "        else:\n",
    "            images_by_patient[patient_id] = [file]"
   ]
  },
  {
   "cell_type": "code",
   "execution_count": 133,
   "metadata": {},
   "outputs": [
    {
     "data": {
      "text/plain": [
       "39"
      ]
     },
     "execution_count": 133,
     "metadata": {},
     "output_type": "execute_result"
    }
   ],
   "source": [
    "len(images_by_patient)"
   ]
  },
  {
   "cell_type": "code",
   "execution_count": 134,
   "metadata": {},
   "outputs": [
    {
     "name": "stdout",
     "output_type": "stream",
     "text": [
      "16\n",
      "17\n"
     ]
    }
   ],
   "source": [
    "def getImageId(filename):\n",
    "    split_filename = filename.split('_')\n",
    "    if len(split_filename) == 4:\n",
    "        return split_filename[3][:-4]\n",
    "    return split_filename[3]\n",
    "\n",
    "#test\n",
    "print(getImageId('Pt_1102_Slice_16.tif'))\n",
    "print(getImageId('Pt_1102_Slice_17_mask.tif'))\n"
   ]
  },
  {
   "cell_type": "code",
   "execution_count": 135,
   "metadata": {},
   "outputs": [],
   "source": [
    "images = {}\n",
    "for key, img_list in images_by_patient.items():\n",
    "    for i in range(0,len(img_list)):\n",
    "        first_id = getImageId(img_list[i])\n",
    "        for j in range(i,len(img_list)):\n",
    "            sec_id = getImageId(img_list[j])\n",
    "            if first_id == sec_id and img_list[i] != img_list[j]:\n",
    "                 if key in images:\n",
    "                    images[key].append((img_list[i], img_list[j]))\n",
    "                 else:\n",
    "                    images[key] = [(img_list[i], img_list[j])]\n",
    "                 break\n",
    "\n",
    "for l in images.values():\n",
    "    l.sort()"
   ]
  },
  {
   "cell_type": "code",
   "execution_count": 136,
   "metadata": {},
   "outputs": [
    {
     "data": {
      "text/plain": [
       "39"
      ]
     },
     "execution_count": 136,
     "metadata": {},
     "output_type": "execute_result"
    }
   ],
   "source": [
    "len(images)"
   ]
  },
  {
   "cell_type": "code",
   "execution_count": null,
   "metadata": {},
   "outputs": [],
   "source": []
  },
  {
   "cell_type": "code",
   "execution_count": null,
   "metadata": {},
   "outputs": [],
   "source": []
  },
  {
   "cell_type": "code",
   "execution_count": 137,
   "metadata": {},
   "outputs": [],
   "source": [
    "db = PatientsDB(images, PATH)"
   ]
  },
  {
   "cell_type": "code",
   "execution_count": 138,
   "metadata": {},
   "outputs": [
    {
     "data": {
      "text/plain": [
       "[<__main__.Patient at 0x7f339849cac8>,\n",
       " <__main__.Patient at 0x7f3398498240>,\n",
       " <__main__.Patient at 0x7f3398428470>,\n",
       " <__main__.Patient at 0x7f33984986d8>,\n",
       " <__main__.Patient at 0x7f3398428a20>,\n",
       " <__main__.Patient at 0x7f33bd29f710>,\n",
       " <__main__.Patient at 0x7f33bd29f208>,\n",
       " <__main__.Patient at 0x7f33bd29fd30>,\n",
       " <__main__.Patient at 0x7f33984fb5c0>,\n",
       " <__main__.Patient at 0x7f33984fbb70>,\n",
       " <__main__.Patient at 0x7f339843a748>,\n",
       " <__main__.Patient at 0x7f339843aef0>,\n",
       " <__main__.Patient at 0x7f33984fe4e0>,\n",
       " <__main__.Patient at 0x7f33984fb208>,\n",
       " <__main__.Patient at 0x7f33984fbc88>,\n",
       " <__main__.Patient at 0x7f33984efbe0>,\n",
       " <__main__.Patient at 0x7f3398500748>,\n",
       " <__main__.Patient at 0x7f33985006d8>,\n",
       " <__main__.Patient at 0x7f3398500358>,\n",
       " <__main__.Patient at 0x7f339b9235c0>,\n",
       " <__main__.Patient at 0x7f339b92f080>,\n",
       " <__main__.Patient at 0x7f33bd29fc18>,\n",
       " <__main__.Patient at 0x7f339b935f60>,\n",
       " <__main__.Patient at 0x7f33984fe8d0>,\n",
       " <__main__.Patient at 0x7f339b935ba8>,\n",
       " <__main__.Patient at 0x7f339b8c9908>,\n",
       " <__main__.Patient at 0x7f339b935710>,\n",
       " <__main__.Patient at 0x7f339b935f98>,\n",
       " <__main__.Patient at 0x7f339b8c9e10>,\n",
       " <__main__.Patient at 0x7f339b8c9940>,\n",
       " <__main__.Patient at 0x7f339b935320>,\n",
       " <__main__.Patient at 0x7f339b8c96a0>,\n",
       " <__main__.Patient at 0x7f339b8cd5f8>,\n",
       " <__main__.Patient at 0x7f339b8f2f28>,\n",
       " <__main__.Patient at 0x7f339b8f2f98>,\n",
       " <__main__.Patient at 0x7f339b8d04e0>,\n",
       " <__main__.Patient at 0x7f339b8cd828>,\n",
       " <__main__.Patient at 0x7f339b8e6e48>,\n",
       " <__main__.Patient at 0x7f339b8f2b70>]"
      ]
     },
     "execution_count": 138,
     "metadata": {},
     "output_type": "execute_result"
    }
   ],
   "source": [
    "db.patients"
   ]
  },
  {
   "cell_type": "code",
   "execution_count": 139,
   "metadata": {},
   "outputs": [],
   "source": [
    "(x_train, y_train), (x_test, y_test) = db.load_data()"
   ]
  },
  {
   "cell_type": "code",
   "execution_count": 140,
   "metadata": {},
   "outputs": [
    {
     "name": "stdout",
     "output_type": "stream",
     "text": [
      "(275, 512, 512)\n",
      "(960, 512, 512)\n",
      "(275,)\n",
      "(960,)\n"
     ]
    }
   ],
   "source": [
    "print((x_test.shape))\n",
    "print((x_train.shape))\n",
    "print((y_test.shape))\n",
    "print((y_train.shape))"
   ]
  },
  {
   "cell_type": "code",
   "execution_count": null,
   "metadata": {},
   "outputs": [],
   "source": []
  },
  {
   "cell_type": "code",
   "execution_count": null,
   "metadata": {},
   "outputs": [],
   "source": [
    "Skip to content\n",
    " \n",
    "Search or jump to…\n",
    "\n",
    "Pull requests\n",
    "Issues\n",
    "Marketplace\n",
    "Explore\n",
    " @oblasko Sign out\n",
    "1,926\n",
    "36,485 13,925 keras-team/keras\n",
    " Code  Issues 2,000  Pull requests 27  Projects 1  Wiki  Insights\n",
    "keras/examples/mnist_cnn.py\n",
    "4f2e65c  on Feb 22\n",
    "@treszkai treszkai Remove word “shuffled” from comments in examples (#9453)\n",
    "@fchollet @matsuyamax @Smerity @kemaswill @treszkai\n",
    "    \n",
    "71 lines (59 sloc)  2.2 KB\n",
    "'''Trains a simple convnet on the MNIST dataset.\n",
    "Gets to 99.25% test accuracy after 12 epochs\n",
    "(there is still a lot of margin for parameter tuning).\n",
    "16 seconds per epoch on a GRID K520 GPU.\n",
    "'''\n",
    "\n",
    "from __future__ import print_function\n",
    "import keras\n",
    "from keras.datasets import mnist\n",
    "from keras.models import Sequential\n",
    "from keras.layers import Dense, Dropout, Flatten\n",
    "from keras.layers import Conv2D, MaxPooling2D\n",
    "from keras import backend as K\n",
    "\n",
    "batch_size = 128\n",
    "num_classes = 10\n",
    "epochs = 12\n",
    "\n",
    "# input image dimensions\n",
    "img_rows, img_cols = 28, 28\n",
    "\n",
    "# the data, split between train and test sets\n",
    "(x_train, y_train), (x_test, y_test) = mnist.load_data()\n",
    "\n",
    "if K.image_data_format() == 'channels_first':\n",
    "    x_train = x_train.reshape(x_train.shape[0], 1, img_rows, img_cols)\n",
    "    x_test = x_test.reshape(x_test.shape[0], 1, img_rows, img_cols)\n",
    "    input_shape = (1, img_rows, img_cols)\n",
    "else:\n",
    "    x_train = x_train.reshape(x_train.shape[0], img_rows, img_cols, 1)\n",
    "    x_test = x_test.reshape(x_test.shape[0], img_rows, img_cols, 1)\n",
    "    input_shape = (img_rows, img_cols, 1)\n",
    "\n",
    "x_train = x_train.astype('float32')\n",
    "x_test = x_test.astype('float32')\n",
    "x_train /= 255\n",
    "x_test /= 255\n",
    "print('x_train shape:', x_train.shape)\n",
    "print(x_train.shape[0], 'train samples')\n",
    "print(x_test.shape[0], 'test samples')\n",
    "\n",
    "# convert class vectors to binary class matrices\n",
    "y_train = keras.utils.to_categorical(y_train, num_classes)\n",
    "y_test = keras.utils.to_categorical(y_test, num_classes)\n",
    "\n",
    "model = Sequential()\n",
    "model.add(Conv2D(32, kernel_size=(3, 3),\n",
    "                 activation='relu',\n",
    "                 input_shape=input_shape))\n",
    "model.add(Conv2D(64, (3, 3), activation='relu'))\n",
    "model.add(MaxPooling2D(pool_size=(2, 2)))\n",
    "model.add(Dropout(0.25))\n",
    "model.add(Flatten())\n",
    "model.add(Dense(128, activation='relu'))\n",
    "model.add(Dropout(0.5))\n",
    "model.add(Dense(num_classes, activation='softmax'))\n",
    "\n",
    "model.compile(loss=keras.losses.categorical_crossentropy,\n",
    "              optimizer=keras.optimizers.Adadelta(),\n",
    "              metrics=['accuracy'])\n",
    "\n",
    "model.fit(x_train, y_train,\n",
    "          batch_size=batch_size,\n",
    "          epochs=epochs,\n",
    "          verbose=1,\n",
    "          validation_data=(x_test, y_test))\n",
    "score = model.evaluate(x_test, y_test, verbose=0)\n",
    "print('Test loss:', score[0])\n",
    "print('Test accuracy:', score[1])\n",
    "© 2018 GitHub, Inc.\n",
    "Terms\n",
    "Privacy\n",
    "Security\n",
    "Status\n",
    "Help\n",
    "Contact GitHub\n",
    "Pricing\n",
    "API\n",
    "Training\n",
    "Blog\n",
    "About\n",
    "Press h to open a hovercard with more details."
   ]
  },
  {
   "cell_type": "code",
   "execution_count": null,
   "metadata": {},
   "outputs": [],
   "source": []
  },
  {
   "cell_type": "code",
   "execution_count": null,
   "metadata": {},
   "outputs": [],
   "source": []
  },
  {
   "cell_type": "code",
   "execution_count": null,
   "metadata": {},
   "outputs": [],
   "source": []
  }
 ],
 "metadata": {
  "kernelspec": {
   "display_name": "Python 3",
   "language": "python",
   "name": "python3"
  },
  "language_info": {
   "codemirror_mode": {
    "name": "ipython",
    "version": 3
   },
   "file_extension": ".py",
   "mimetype": "text/x-python",
   "name": "python",
   "nbconvert_exporter": "python",
   "pygments_lexer": "ipython3",
   "version": "3.6.5"
  }
 },
 "nbformat": 4,
 "nbformat_minor": 2
}
